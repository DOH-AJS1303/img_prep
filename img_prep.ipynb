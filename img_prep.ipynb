{
 "cells": [
  {
   "cell_type": "code",
   "execution_count": null,
   "id": "5bb7b420",
   "metadata": {},
   "outputs": [],
   "source": [
    "from PIL import Image, ImageOps\n",
    "import os"
   ]
  },
  {
   "cell_type": "code",
   "execution_count": null,
   "id": "87154436",
   "metadata": {},
   "outputs": [],
   "source": [
    "img_loc = \"\"\n",
    "sav_loc = img_loc + \"Batch\\\\\"\n",
    "size = 600,800"
   ]
  },
  {
   "cell_type": "code",
   "execution_count": null,
   "id": "390d6e13",
   "metadata": {},
   "outputs": [],
   "source": [
    "def process(img_name, img_path, sav_loc, size):\n",
    "    img = Image.open(img_path + img_name)\n",
    "    img = img.rotate(90, expand=True)\n",
    "    img = ImageOps.pad(image=img, size=size, method=Image.Resampling.LANCZOS)\n",
    "    img.save(sav_loc + img_name)\n",
    "    "
   ]
  },
  {
   "cell_type": "code",
   "execution_count": null,
   "id": "c6dc9554",
   "metadata": {
    "scrolled": false
   },
   "outputs": [],
   "source": [
    "images = os.listdir(img_loc)\n",
    "print(images)"
   ]
  },
  {
   "cell_type": "code",
   "execution_count": null,
   "id": "21ccd82a",
   "metadata": {},
   "outputs": [],
   "source": [
    "for img_name in images:\n",
    "    process(img_name, img_loc, sav_loc, size)\n"
   ]
  }
 ],
 "metadata": {
  "kernelspec": {
   "display_name": "Python 3 (ipykernel)",
   "language": "python",
   "name": "python3"
  },
  "language_info": {
   "codemirror_mode": {
    "name": "ipython",
    "version": 3
   },
   "file_extension": ".py",
   "mimetype": "text/x-python",
   "name": "python",
   "nbconvert_exporter": "python",
   "pygments_lexer": "ipython3",
   "version": "3.10.5"
  }
 },
 "nbformat": 4,
 "nbformat_minor": 5
}
